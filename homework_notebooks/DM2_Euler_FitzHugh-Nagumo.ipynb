{
 "cells": [
  {
   "cell_type": "markdown",
   "metadata": {},
   "source": [
    "# Devoir maison 2\n",
    "\n",
    "Dans ce notebook, vous allez (1) vous familiariser d'avantage avec la méthode d'Euler pour résoudre numériquement des équations différentielles, et (2) utiliser cette méthode pour intégrer (ou résoudre) les équations du modèle FitzHugh-Nagumo pour déterminer la courbe f-I du modèle."
   ]
  },
  {
   "cell_type": "markdown",
   "metadata": {},
   "source": [
    "###  1: La méthode d'Euler\n",
    "\n",
    "Cette semaine, nous avons vu comment intégrer une équation différentielle avec la méthode d'Euler. De manière générale, un peut formuler une équation différentielel ordinaire de cette forme, où $x=x(t)$ est notre variable dynamique (dont nous voulons connaître l'évolution) :\n",
    "\n",
    "$$ \\frac{dx}{dt} = f(x,t)  $$\n",
    "\n",
    "L'exemple utilisé dans le cours était assez simple, pour qu'on puisse comparer la solution analytique exacte au résultat de notre intégration numérique, nécessairement approximative. Avec $f(x,t) = -x/\\tau$ (ici, $\\tau$ est une constante de temps), et une valeur initiale $x(t=0)=x_0$, la solution de notre équation différentielle, c'est-à-dire l'évolution de notre système dynamique, est donnée par $x(t)=x_0 e^{-t/\\tau}$. \n",
    "\n",
    "Cependant, la fonction $f(x,t)$, qui gouverne l'évolution de $x(t)$ peut être plus compliquée et par exemple dépendre explicitement du temps, par ex. quand une force externe agit sur le système. On va regarder un tel cas dans cette exercise.  \n",
    "\n",
    "#### Exercise 1.1 \n",
    "\n",
    "Intégrez numériquement l'équation différentielle \n",
    "\n",
    "$$ \\frac{dx}{dt} = \\sin(\\omega t) $$\n",
    "\n",
    "avec la condition initiale $x(t=0)=0$ et pour la fréquence d'oscillation $\\omega = 2\\pi$., Si vous connaissez la solution analytique, plottez-là ensemble avec votre solution numérique pour $t\\le3$. Dans ce cas, la dérivée temporelle de $x(t)$ est donc donnée par la fonction $f(x,t)=\\sin(\\omega t) $. \n",
    "\n",
    "**Attention :** Veillez à vérifier que le pas de temps que vous utilisez est suffisamment petite pour que l'intégration numérique est correcte. \n",
    "\n",
    "**Astuce :** La valeur de $\\pi$ est accessible dans la variable `np.pi`, et la fonction $\\sin$ est implemetée par `np.sin`. \n"
   ]
  },
  {
   "cell_type": "code",
   "execution_count": null,
   "metadata": {},
   "outputs": [],
   "source": [
    "# Importer toutes les modules nécessaires\n",
    "import numpy as np\n",
    "import matplotlib.pyplot as plt\n",
    "%matplotlib inline\n"
   ]
  },
  {
   "cell_type": "code",
   "execution_count": null,
   "metadata": {},
   "outputs": [],
   "source": [
    "# Choisissez un pas de temps approprié\n",
    "T = 3. # durée sur laquelle intégrer\n",
    "\n",
    "# ...votre code..."
   ]
  },
  {
   "cell_type": "code",
   "execution_count": null,
   "metadata": {},
   "outputs": [],
   "source": [
    "# Définissez le fonction qui vous retourne f(x,t)\n",
    "\n",
    "# ...votre code..."
   ]
  },
  {
   "cell_type": "code",
   "execution_count": null,
   "metadata": {},
   "outputs": [],
   "source": [
    "# Déterminez de manière itérative les valeurs de x(t)\n",
    "\n",
    "# ...votre code..."
   ]
  },
  {
   "cell_type": "code",
   "execution_count": null,
   "metadata": {},
   "outputs": [],
   "source": [
    "# Plottez x(t) vs. t (si vous connaissez la solution analytique,\n",
    "# plottez-la pour comparaison)\n",
    "\n",
    "# ...votre code..."
   ]
  },
  {
   "cell_type": "markdown",
   "metadata": {},
   "source": [
    "#### Exercise 1.2\n",
    "\n",
    "Répétez l'intégration pour deux autres fréquences ($\\omega=\\pi,\\ \\omega=3\\pi)$  et plottez les différentes solutions ensemble.\n",
    "\n",
    "**Astuce :** Vous pouvez redefinir votre fonction qui vous retourne la dérivée afin qu'elle prenne la fréquence d'oscillation comme argument supplémentaire."
   ]
  },
  {
   "cell_type": "code",
   "execution_count": null,
   "metadata": {},
   "outputs": [],
   "source": [
    "# ...votre code..."
   ]
  },
  {
   "cell_type": "markdown",
   "metadata": {},
   "source": [
    "#### Exercise 1.3\n",
    "\n",
    "Intégrez numériquement l'équation différentielle suivante, qui inclut maintenant un terme d'amortissage :\n",
    "\n",
    "$$ \\frac{dx}{dt} = - x + \\sin(2\\pi t) $$\n",
    "\n",
    "avec la condition initiale $x(t=0)=0$. Plottez ce résultat avec amortissage ensemble avec le premier résultat 1.1, c'est-à-dire avec la même fréquence mais sans amortissage."
   ]
  },
  {
   "cell_type": "code",
   "execution_count": null,
   "metadata": {},
   "outputs": [],
   "source": [
    "# ... votre code ..."
   ]
  },
  {
   "cell_type": "markdown",
   "metadata": {},
   "source": [
    "### 2: Extraire des franchissements de seuil \n",
    "\n",
    "Il est souvent nécessaire d'extraire le moment du franchissement d'un seuil dans des données, par ex. dans une trace de potentiel membranaire. Souvent, on identifie ainsi les moments de \"spike\"/PA pour des enregistrements electrophysiologiques. Notamment dans cette situation, on est seulement intéressé par les franchissements \"du bas vers le haut\" ; le moment de repolarisation est moins important et de toute manière étroitement lié au premier.\n",
    "\n",
    "Pour un array ou une liste de valeurs, cela revient à identifier l'*index* pour lequel un seuil est franchie. Il faut alors comparer chaque valeur dans la liste avec la valeur suivante, et vérifier si, quand les premier est en-dessous du seuil, le suivant est au-dessus. \n",
    "\n",
    "#### Exercise 2.1 \n",
    "\n",
    "Lisez et exécutez l'exemple ci-dessous. Je vous montre deux implémentations, vous devriez par la suite être capable d'en utiliser au moins une. "
   ]
  },
  {
   "cell_type": "code",
   "execution_count": null,
   "metadata": {},
   "outputs": [],
   "source": [
    "# Exemple d'extraction de franchissement de seuil\n",
    "\n",
    "# création de données pour l'exemple\n",
    "t_data = np.arange(0,20,0.1)\n",
    "data = np.sin(t_data)\n",
    "ndata = len(data)\n",
    "\n",
    "# définition du seuil\n",
    "threshold = 0.5\n",
    "\n",
    "# plot des données et du seuil\n",
    "fig, ax = plt.subplots()\n",
    "ax.plot(t_data, data, label='Data')\n",
    "ax.axhline(threshold, linestyle='--', color='k', label='Seuil')\n",
    "ax.legend()\n",
    "ax.set_xlabel('t')"
   ]
  },
  {
   "cell_type": "code",
   "execution_count": null,
   "metadata": {},
   "outputs": [],
   "source": [
    "# implémentation 1: boucle for\n",
    "# ----------------------------\n",
    "\n",
    "# liste vide pour prendre les indices de franchissement\n",
    "indices = [] \n",
    "\n",
    "# boucle sur ndata-1 premières valeurs \n",
    "# (la dernière valeur ne peut pas être comparée)\n",
    "for i in range(ndata-1):\n",
    "    if data[i] < threshold:\n",
    "        if data[i+1] >= threshold:\n",
    "            indices.append(i)\n",
    "\n",
    "print(indices, type(indices))"
   ]
  },
  {
   "cell_type": "code",
   "execution_count": null,
   "metadata": {},
   "outputs": [],
   "source": [
    "# implémentation 2: utiliser les opérations \n",
    "# logiques avec les arrays\n",
    "# -----------------------------------------\n",
    "\n",
    "# première condition: déterminer un array avec \n",
    "# les valeurs booléennes (True ou False) en \n",
    "# fonction de la comparaison avec le seuil,\n",
    "# pour i=0,...,ndata-2\n",
    "condition_1 = data[:-1] < threshold\n",
    "\n",
    "# deuxième condition: déterminer un array avec \n",
    "# les valeurs booléennes (True ou False) en \n",
    "# fonction de la comparaison avec le seuil,\n",
    "# pour i=1,...,ndata-1\n",
    "condition_2 = data[1:] >= threshold\n",
    "\n",
    "# quand les deux conditions sont remplies, \n",
    "# le seuil est franchie!\n",
    "# (la multiplication de valeurs boléennes \n",
    "# correspond à l'opération logique ET/AND)\n",
    "both = condition_1 * condition_2\n",
    "\n",
    "# les indices du franchissement sont ceux pour \n",
    "# qui les deux conditions sont 'True'\n",
    "# --> on peut utuliser la fonction np.where\n",
    "indices_alt = np.where(both)[0]\n",
    "\n",
    "print(indices_alt, type(indices_alt))"
   ]
  },
  {
   "cell_type": "code",
   "execution_count": null,
   "metadata": {},
   "outputs": [],
   "source": [
    "# Les temps des franchissements sont donnés \n",
    "# par les temps qui correspondent aux indices :\n",
    "print('Temps de franchissements :', t_data[indices])"
   ]
  },
  {
   "cell_type": "markdown",
   "metadata": {},
   "source": [
    "### 3: Le modèle de FitzHugh-Nagumo\n",
    "\n",
    "Dans le TD de cette semaine, nous avons étudié le modèle FitzHugh-Nagumo, qui décrit de manière simplifiée la décharge neuronale. Le modèle est spécifié par les équations \n",
    "\n",
    "\n",
    "$$ \\frac{dV}{dt} = V - V^3/3 - W + I ,$$\n",
    "\n",
    "$$ \\frac{dW}{dt} = 0.08 (V+ 0.7 - 0.8 W), $$\n",
    "\n",
    "\n",
    "Nous avons constaté qu'en fonction du courant $I$ injecté, le neurone décharge (génére des pics de potentiel $V$) ou reste silencieux (les variables ne varient pas dans le temps, après une rélaxation intitiale). \n",
    "\n",
    "#### Exercise 3.1 : Détermination de la courbe f-I\n",
    "\n",
    "Essayez d'extraire le nombre de PA de la trace du potentiel (de la variable $V$) pour une simulation d'une durée `T = 1000` pour plusiers valeurs de $I$ dans l'intervalle $I\\in[0,1.5]$, `Ivalues = np.arange(0,1.51,0.05)`. Tracez le nombre des décharges (i.e., des franchissements de seuil) en fonction du courant $I$. Pour éviter des PA singulier uniquement dus aux conditions initiales, choisissez des valeurs initiales $V(t=0)=-1$, $W(t=0)=0$.\n",
    "\n",
    "**Indice :** Identifiez un seuil de $V$ raisonnable au-dessus lequel un PA peut être considéré comme déclenché, et déterminez le nombre de franchissements de ce seuil par le bas vers le haut.\n",
    "\n",
    "**Astuce :** Vous pouvez réutiliser le code du TD pour la résolution du modèle FitzHugh-Nagumo, avec une boucle sur les courants `I`. Vous pouvez également réutiliser le code ci-dessus pour la détection du franchissement du seil en l'adaptant au problème (attention, nous cherchons les franchissements pour la variable $V$ seulement). "
   ]
  },
  {
   "cell_type": "code",
   "execution_count": null,
   "metadata": {},
   "outputs": [],
   "source": [
    "# ... votre code ..."
   ]
  }
 ],
 "metadata": {
  "kernelspec": {
   "display_name": "Python 3 (ipykernel)",
   "language": "python",
   "name": "python3"
  },
  "language_info": {
   "codemirror_mode": {
    "name": "ipython",
    "version": 3
   },
   "file_extension": ".py",
   "mimetype": "text/x-python",
   "name": "python",
   "nbconvert_exporter": "python",
   "pygments_lexer": "ipython3",
   "version": "3.10.8"
  }
 },
 "nbformat": 4,
 "nbformat_minor": 2
}
