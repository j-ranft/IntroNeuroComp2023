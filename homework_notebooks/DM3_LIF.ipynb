{
 "cells": [
  {
   "cell_type": "markdown",
   "metadata": {},
   "source": [
    "# Devoir 3 : Le modèle Leaky-Integrate-and-Fire\n",
    "\n",
    "Dans ce devoir maison, vous allez encore vous familiariser avec le modèle LIF, qui est un modèle assez simple et puissant pour décrire l'activité des neurones. Plus précisemment, vous allez \n",
    "\n",
    "(1) simuler le modèle d'un neurone LIF sans bruit pour vérifier que l'expression analytique que nous avons obtenue pour le taux de décharge est correcte, et\n",
    "\n",
    "(2) simuler le modèle LIF avec bruit pour extraire les temps de décharge et comparer le CV entre le 'mean-driven' régime (presque déterministe) et le régime d'activité irrégulière.\n",
    "\n",
    "Ce devoir contient une petite partie *bonus* qui vous permet d'obtenir des points supplémentaires, par ex. pour combler des points qui vous manqueraient ailleurs."
   ]
  },
  {
   "cell_type": "markdown",
   "metadata": {},
   "source": [
    "## 1.  LIF  sans bruit : comparaison de la courbe f-I obtenue analytiquement et par simulation du modèle\n",
    "\n",
    "\n",
    "### Rappel : Dynamique sous-seuil du LIF sans bruit \n",
    "\n",
    "Pour rappel, la dynamique **sous-seuil** (!) d'un neurone LIF _sans bruit_ est donnée par l'équation\n",
    "\n",
    "$$\\frac{dV}{dt} = \\frac{1}{\\tau}(E_L - V + RI )$$\n",
    "\n",
    "Chaque fois que le potentiel $V$ franchit un seuil $V_{\\rm seuil}$ par le bas, le modèle stipule qu'un PA est émis, et par la suite le potentiel est remis à sa valeur de \"reset\", $V\\to V_{\\rm reset}$.\n",
    "\n",
    "Comme dans le TD3, nous considérons ici pour simplicité que $E_L=0$ mV (ou de manière équivalente, que $V$ est mésuré rélatif à $E_L$), ainsi que les paramètres suivants : $\\tau=20$ ms et $R=1$ MOhm pour la dynamique sous-seuil, et $V_{\\rm seuil}=20$ mV avec $V_{\\rm reset}=0$ mV pour le mécanisme de décharge. \n",
    "\n",
    "\n",
    "### Exercice :\n",
    "\n",
    "Déterminez la courbe $f(I)$ pour des valeurs de $I$ de 10 à 30 nA,  `Ivalues = np.arange(10,30,0.1)`, en simulant le LIF sans bruit pour une durée de 5s, `T = 5000 # ms`. Pour chaque valeur de $I$, enregistrez les temps auxquels des spikes sont émis. Le taux de décharge $r$ peut être obtenu de deux manières : \n",
    "\n",
    "(a) $r = N/T$, où $N$ est le nombre de spikes observés pendant une durée $T$,\n",
    "\n",
    "(b) $r = 1/\\bar T_{ISI}$, où $\\bar T_{ISI}$ est le ISI (intervalle entre deux spikes) moyen.\n",
    "\n",
    "Créez un array pour les taux de décharge avec autant d'entrées que vous avez de valeurs de I. Utilisez ce que nous avons fait dans le dernier TD pour simuler le LIF dans un boucle sur les courants, et écrivez le taux de décharge pour chaque I dans l'array respectif.\n",
    "\n",
    "Plottez le résultat pour le taux de décharge obtenu avec la simulation ensemble avec le résultat théorique que nous avons calculé dans le TD,\n",
    "\n",
    "$f(I) = \\left(\\tau \\log \\frac{V_{reset}-RI}{V_{seuil}-RI}\\right)^{-1}$ .\n",
    "\n",
    "(Attention, ne pas confondre la fonction $f$ ici avec la fonction qui désigne la dérivée dans une équation différentielle type ; ici, c'est $f$ comme \"fréquence\".)\n",
    "\n",
    "**Astuces :** La fonction `np.diff` permet de calculer les differences entre les valeurs consécutives d'un array ou d'une liste (pour des arrays d'une dimension, c'est équivalent à `a[1:] - a[:-1]`). La fonction `np.mean` permet de calculer la moyenne sur un array ou une liste. "
   ]
  },
  {
   "cell_type": "code",
   "execution_count": null,
   "metadata": {},
   "outputs": [],
   "source": [
    "# votre code"
   ]
  },
  {
   "cell_type": "code",
   "execution_count": null,
   "metadata": {},
   "outputs": [],
   "source": []
  },
  {
   "cell_type": "code",
   "execution_count": null,
   "metadata": {},
   "outputs": [],
   "source": []
  },
  {
   "cell_type": "markdown",
   "metadata": {},
   "source": [
    "## 2. LIF avec bruit\n",
    "\n",
    "\n",
    "Maintenant, en présence d'une bruit, l'équation différentielle pour le LIF *sous-seuil* (!) devient\n",
    "\n",
    "$$\\frac{dV}{dt} = \\frac{1}{\\tau}(- V + RI+\\sigma\\sqrt{\\tau}\\xi),$$\n",
    "\n",
    "($E_L=0$) avec la version discrétisée que nous avons vu dans le TD,\n",
    "\n",
    "$$V_{i+1} = V_i + \\Delta t \\left[\\frac{-V_i + RI}{\\tau} + \\sigma\\sqrt{\\frac{1}{\\Delta t \\tau}} \\eta_i\\right].$$\n",
    "\n",
    "Ici, $\\eta_i$ est désormais un simple nombre aléatoire tiré d'une distribution Gaussienne normalisée (moyenne 0, écart-type 1). \n",
    "\n",
    "### Exercice :\n",
    "\n",
    "Simulez le modèle LIF avec bruit pour différents jeux de paramètres ($I$,$\\sigma$) et plottez la trace du potentiel $V$ comme dans le TD. Choississez deux pairs de paramètres ($I_1$,$\\sigma_1$) et ($I_2$,$\\sigma_2$) pour lesquels l'activité du neurone (les temps de spikes) vous paraît plutôt régulière (paramètres 1) et plutôt irrégulière (paramètres 2).\n",
    "\n",
    "Pour les deux pairs de paramètres, simulez le modèle pour une durée de 5s (`T = 5000 # ms`) et enregistrez les temps de spike. Calculez et affichez le CV de l'activité dans les deux cas. Est-ce que les valeurs obtenues confirment votre impression d'une activité régulière et irrégulière dans les deux cas ? \n",
    "\n",
    "\n",
    "**Astuce :** Pour rappel, le CV est donné par le ratio entre l'écart-type des ISI (intervalles inter-spike) et leur moyenne. La fonction `np.std` retourne l'écart-type des valeurs d'un array ou d'une liste."
   ]
  },
  {
   "cell_type": "code",
   "execution_count": null,
   "metadata": {},
   "outputs": [],
   "source": [
    "# votre code"
   ]
  },
  {
   "cell_type": "code",
   "execution_count": null,
   "metadata": {},
   "outputs": [],
   "source": []
  },
  {
   "cell_type": "code",
   "execution_count": null,
   "metadata": {},
   "outputs": [],
   "source": []
  },
  {
   "cell_type": "markdown",
   "metadata": {},
   "source": [
    "## BONUS : Distribution des ISI lors d'une activité régulière ou irrégulière \n",
    "\n",
    "La différence de CV entre une activité régulière et irrégulière nous permet déjà de distinguer les deux cas. Pour avoir une idée plus précise de la distribution des ISI, plottez l'histogramme des ISI obtenus pour les deux cas que vous avez simulés dans la partie 2 du devoir.\n",
    "\n",
    "**Astuce :** Utilisez la fonction `ax.hist` pour plotter l'histogramme des valeurs des ISI dans chaqun des deux cas. Affichez l'histogramme avec au moins 25 bins (\"keyword argument\" `bins=25`, mais vous pouvez essayer d'autres valeurs) pour qu'on puisse bien reconnaître la forme de la distribution. Utilisez également le \"keyword argument\" `density=True` pour que la hauteur des colonnes soit normalisée par le nombre de valeurs considérées.\n",
    "\n",
    "Essayez d'estimer le temps de simulation nécessaire pour obtenir environ 1000 spikes dans chaque cas afin d'avoir une résolution raisonable de la distribution, et au besoin repetez la simulation avec un temps plus long si nécesaire."
   ]
  },
  {
   "cell_type": "code",
   "execution_count": 1,
   "metadata": {},
   "outputs": [],
   "source": [
    "# votre code"
   ]
  },
  {
   "cell_type": "code",
   "execution_count": null,
   "metadata": {},
   "outputs": [],
   "source": []
  },
  {
   "cell_type": "code",
   "execution_count": null,
   "metadata": {},
   "outputs": [],
   "source": []
  }
 ],
 "metadata": {
  "kernelspec": {
   "display_name": "Python 3 (ipykernel)",
   "language": "python",
   "name": "python3"
  },
  "language_info": {
   "codemirror_mode": {
    "name": "ipython",
    "version": 3
   },
   "file_extension": ".py",
   "mimetype": "text/x-python",
   "name": "python",
   "nbconvert_exporter": "python",
   "pygments_lexer": "ipython3",
   "version": "3.10.8"
  }
 },
 "nbformat": 4,
 "nbformat_minor": 4
}
