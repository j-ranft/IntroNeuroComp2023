{
 "cells": [
  {
   "cell_type": "markdown",
   "metadata": {},
   "source": [
    "# DM5 : Modèle de Hopfield\n",
    "---\n",
    "\n",
    "Dans le cours no. 5 et le TD associé, nous avons étudié le modèle de Hopfield : C'est un modèle simplifié pour expliquer comment des motifs (mémoires) peuvent être stockés dans les connexions synaptiques et être récupérés par la dynamique du réseau. C'est l'archétype d'un réseau attracteur, dont le mécanisme sousjacent a par la suite également été démontré fonctionner avec des modèles de réseau plus compliqué (réseau à spike, modèles de taux de décharge etc.). \n",
    "\n",
    "Dans ce devoir, nous allons étudier davantage le modèle de Hopfield. Veuillez vous référer aux diapos du cours et les équations dans le notebook du TD associé pour la définition précise du modèle.\n"
   ]
  },
  {
   "cell_type": "code",
   "execution_count": 11,
   "metadata": {},
   "outputs": [],
   "source": [
    "# imports \n",
    "import numpy as np\n",
    "import matplotlib.pyplot as plt\n",
    "%matplotlib inline"
   ]
  },
  {
   "cell_type": "markdown",
   "metadata": {},
   "source": [
    "### 1. Valeur critique de $\\beta$\n",
    "\n",
    "Dans le TD, nous avons simulé l'évolution d'un réseau dont les poids synaptiques étaient choisis pour encoder un smiley. Pour une valeur de $\\beta$ suffisamment grande ($\\beta \\ge 4$ dans le cas étudié), le réseau a évolué dans le sens souhaité, c'est-à-dire a réproduit petit à petit le motif stocké. Pour des valeurs de $\\beta$ plus petites ($\\beta=1$ dans le TD), le motif n'a pas été récupéré. \n",
    "\n",
    "Déterminez plus précisément la valeur critique au-dessus laquelle le motif est récupéré, en faisant varier systématiquement $\\beta$ entre 1 et 4, avec une précision attendue  de l'ordre de 0.2 (un cinquième), en partant d'un overlap initial modéré (env. 1/10 des pixels identique au motif, le reste choisi aléatoirement). \n",
    "\n",
    "**Indice :** Plottez l'évolution de l'overlap $m$ dans le temps pour chaque valeur de $\\beta$ testée. Si l'overlap semble stationnaire (ne change plus de manière significative après un temps donné), prenez la valeur finale de l'overlap pour chaque valeur de $\\beta$ et plottez ces valeurs finales en fonction de $\\beta$."
   ]
  },
  {
   "cell_type": "code",
   "execution_count": 12,
   "metadata": {},
   "outputs": [],
   "source": [
    "# define some useful functions you can use below\n",
    "# ----------------------------------------------\n",
    "\n",
    "# gain function\n",
    "def g(h, beta):\n",
    "    \"\"\"Gain function: probability of a neuron to be \n",
    "    in the active state given the input h, for a \n",
    "    given value of beta (default value 1).\"\"\"\n",
    "    return 1/(1+np.exp(-beta*h))\n",
    "\n",
    "\n",
    "# overlap between a given pattern and a state\n",
    "def overlap(state, pattern):\n",
    "    return sum(state*pattern)/N\n",
    "\n",
    "\n",
    "# a plot function to easily plot the \n",
    "# network state as an image\n",
    "def plot_state(state):\n",
    "    plt.imshow(state.reshape((nx,ny)), cmap='Greys_r')"
   ]
  },
  {
   "cell_type": "code",
   "execution_count": 13,
   "metadata": {},
   "outputs": [],
   "source": [
    "# import an image that we will use as first motif\n",
    "img = np.loadtxt('smiley.dat')\n",
    "nx, ny = img.shape\n",
    "\n",
    "# create our Hopfield net\n",
    "# -----------------------\n",
    "\n",
    "# convert the 2D pixel matrix to a 1D pattern vector\n",
    "P0 = img.flatten()\n",
    "\n",
    "# the network size is given by the length of the pattern\n",
    "N = len(P0)\n",
    "\n",
    "# for a single pattern, the weight matrix is given by\n",
    "W = P0[:,None] * P0[None,:] / N\n",
    "\n",
    "# enforce empty diagonal (no self-connections)\n",
    "W[np.arange(N),np.arange(N)] = 0"
   ]
  },
  {
   "cell_type": "code",
   "execution_count": 14,
   "metadata": {},
   "outputs": [],
   "source": [
    "# ... votre code ..."
   ]
  },
  {
   "cell_type": "markdown",
   "metadata": {},
   "source": [
    "Répétez en commençant avec un overlap parfait, $m(t=0)=1$, c'est-à-dire avec le motif sans modification. Qu'est-ce que vous observez ?"
   ]
  },
  {
   "cell_type": "code",
   "execution_count": null,
   "metadata": {},
   "outputs": [],
   "source": [
    "# ... votre code ..."
   ]
  },
  {
   "cell_type": "markdown",
   "metadata": {},
   "source": [
    "#### Théorie pour l'overlap stationnaire $m^*$ en fonction de $\\beta$\n",
    "\n",
    "Pour $m>0$, les $S_i$ auront tendance à s'aligner sur les $P_i$, indépendamment de leur valeur précédante. Si l'overlap augmente ou diminue dépend de la valeur de $m$, et du paramètre $\\beta$, mais en moyenne il ne pourra pas changer de signe. Est-ce qu'on peut calculer la valeur stationnaire (finale) que l'overlap va atteindre ?\n",
    "\n",
    "Pour rappel, l'overlap $m$ avec un motif $P_i, i=1,...,N$ est donné par $m(t) = \\frac{1}{N}\\sum_i S_i(t) P_i$. On peut calculer l'overlap stationnaire $m^*$ (qui ne dépend plus du temps) si l'on suppose que cet overlap est donné approximativement par\n",
    "$$m^*= \\langle \\frac{1}{N}\\sum_i S_i P_i\\rangle,$$\n",
    "où $\\langle\\cdot\\rangle$ dénote la moyenne sur les $S_i$ réalisés dans l'état stationnaire. Dans la mesure que $m^*$ décrit en effet l'overlap moyen, la probabilité d'observer $S_i=1$ ou $S_i=-1$ dépend elle-même de $m^*$ selon \n",
    "$$p(S_i = 1) = g( P_i m^*) = \\frac{1}{1+e^{-\\beta P_im^*}}.$$\n",
    "On trouve donc\n",
    "$$\\begin{align}\n",
    "m^*&=\\frac{1}{N}\\sum_i [p(S_i=1) P_i - p(S_i=-1) P_i] \\\\\n",
    "&= \\frac{1}{N}\\sum_i [2p(S_i=1) - 1] P_i \\\\\n",
    "&= \\frac{1}{N}\\sum_i \\frac{1-e^{-\\beta P_i m^*}}{1+e^{-\\beta P_i m^*}} P_i \\\\\n",
    "&= \\tanh(\\frac{\\beta m^*}{2}).\n",
    "\\end{align}$$\n",
    "(Le dernier pas demande un peu plus de réfléxion - il faut se convaincre que chaque terme de la somme est égale indépendamment si $P_i=1$ ou $P_i=-1$, ce qui est le cas parce que le préfacteur change également de signe.)\n",
    "\n",
    "L'équation finale pour $m^*$, \n",
    "$$m^*=\\tanh(\\frac{\\beta m^*}{2}),$$\n",
    "n'a pas de solution simple où directe, mais il est en principe possible de déterminer les solutions numériquement. Ici, nous allons seulement procéder à une analyse graphique des solutions de l'équation pour $m^*$. Plottez $m^*$ ainsi que $\\tanh(\\frac{\\beta m^*}{2})$ en fonction de $m^*$ pour différentes valeurs de $\\beta$ sur un même graphe. Les solutions de l'équation correspondent à des points où les courbes pour $m^*$ et $\\tanh(\\frac{\\beta m^*}{2})$ se croisent. Qu'est-ce que vous observez pour la valeur critique de $\\beta$ que vous avez déterminée précedemment ?"
   ]
  },
  {
   "cell_type": "code",
   "execution_count": null,
   "metadata": {},
   "outputs": [],
   "source": [
    "# ... votre code ..."
   ]
  },
  {
   "cell_type": "markdown",
   "metadata": {},
   "source": [
    "**Remarque (bonus) :** L'équation pour $m^*$ permet de déterminer la valeur critique de $\\beta$ mathématiquement ; est-ce que vous avez une idée comment ?\n",
    "\n"
   ]
  },
  {
   "cell_type": "code",
   "execution_count": null,
   "metadata": {},
   "outputs": [],
   "source": [
    "# ... votre réponse ..."
   ]
  },
  {
   "cell_type": "markdown",
   "metadata": {},
   "source": [
    "### 2. Récupération d'un motif, $K=2$\n",
    "\n",
    "Dans le cours, nous avons vu que la capacité maximale d'un réseau de Hopfield est $K_c=0.138 N$, ce qui dans notre cas ($N=4096$) suggère que le réseau peut stocker jusqu'à 565 motifs différents. On va faire plus simple et n'en considérer que trois. Choisissez pour $\\beta$ une valeur au-dessus de la valeur critique.\n",
    "\n",
    "Construisez un réseau de Hopfield avec des connexions synaptiques pour stocker les deux motifs `smiley.dat`, `flowers.dat` et `wolf.dat`. Pour cela, créez / définissez d'abord trois arrays P0, P1 et P2 correspondant à chaque motif respectif. Rappelez-vous que la matrice de connectivité et ensuite donnée par l'addition des matrices de connectivité qu'on obtiendrait pour chaque motif individuellement, et que les auto-connexions sont interdites ($W_{ii}=0$)."
   ]
  },
  {
   "cell_type": "code",
   "execution_count": 8,
   "metadata": {},
   "outputs": [],
   "source": [
    "# For simplicity, here are the two patterns:\n",
    "P0 = np.loadtxt('smiley.dat').flatten()\n",
    "P1 = np.loadtxt('flowers.dat').flatten()\n",
    "\n",
    "# ... votre code pour la définition du réseau..."
   ]
  },
  {
   "cell_type": "markdown",
   "metadata": {},
   "source": [
    "Maintenant que vous avex créé le réseau, simulez l'évolution pour des conditions initiales différentes, avec un overlap initial différent avec les deux motifs (voir ci-dessous). Pour chaque condition, calculez l'overlap avec chacun des trois motifs, et plottez comment les overlaps avec les différents motifs évoluent avec le temps (i.e., plottez $m^0(t)$, $m^1(t)$ et $m^3(t)$ sur un même graphe)."
   ]
  },
  {
   "cell_type": "code",
   "execution_count": 15,
   "metadata": {},
   "outputs": [
    {
     "data": {
      "image/png": "[encoded data removed]",
      "text/plain": [
       "<Figure size 640x480 with 1 Axes>"
      ]
     },
     "metadata": {},
     "output_type": "display_data"
    }
   ],
   "source": [
    "# nombre d'itération, modifiez si nécessaire\n",
    "nt = 10 \n",
    "\n",
    "# initialisation de l'array contenant la séquence\n",
    "# des états du réseau\n",
    "S = np.zeros((nt,N)) \n",
    "\n",
    "# 1) Initial overlap with first pattern only\n",
    "S[0] = 2*np.round(np.random.uniform(size=N))-1 # clear previous initial condition\n",
    "nover = 800\n",
    "inds_over = np.random.choice(N, size=nover, replace=False)\n",
    "S[0,inds_over] = P0[inds_over] \n",
    "\n",
    "plot_state(S[0])\n"
   ]
  },
  {
   "cell_type": "code",
   "execution_count": null,
   "metadata": {},
   "outputs": [],
   "source": [
    "# ... votre code pour l'évolution du réseau et les overlaps..."
   ]
  },
  {
   "cell_type": "code",
   "execution_count": null,
   "metadata": {},
   "outputs": [],
   "source": [
    "# 2) Initial overlap with second pattern only\n",
    "S[0] = 2*np.round(np.random.uniform(size=N))-1 # clear previous initial condition\n",
    "nover = 800\n",
    "inds_over = np.random.choice(N, size=nover, replace=False)\n",
    "S[0,inds_over] = P1[inds_over] \n",
    "\n",
    "plot_state(S[0])"
   ]
  },
  {
   "cell_type": "code",
   "execution_count": null,
   "metadata": {},
   "outputs": [],
   "source": [
    "# ... votre code pour l'évolution du réseau et les overlaps..."
   ]
  },
  {
   "cell_type": "code",
   "execution_count": null,
   "metadata": {},
   "outputs": [],
   "source": [
    "# 3) Initial overlap with two patterns\n",
    "S[0] = 2*np.round(np.random.uniform(size=N))-1 # clear previous initial condition\n",
    "nover0 = 400\n",
    "nover1 = 400\n",
    "inds_over0 = np.random.choice(N//2, size=nover, replace=False)\n",
    "inds_over1 = N//2 + np.random.choice(N//2, size=nover, replace=False)\n",
    "S[0,inds_over0] = P0[inds_over0] # partial overlap (first 800 neurons)\n",
    "S[0,inds_over1] = P1[inds_over1] # partial overlap (first 800 neurons)\n",
    "\n",
    "\n",
    "\n",
    "plot_state(S[0])\n"
   ]
  },
  {
   "cell_type": "code",
   "execution_count": null,
   "metadata": {},
   "outputs": [],
   "source": [
    "# ... votre code pour l'évolution du réseau et les overlaps..."
   ]
  },
  {
   "cell_type": "code",
   "execution_count": null,
   "metadata": {},
   "outputs": [],
   "source": [
    "# 4) Initial overlap with two patterns (stealth mode)\n",
    "S[0] = 2*np.round(np.random.uniform(size=N))-1 # clear previous initial condition\n",
    "nover0 = 800\n",
    "nover1 = 1000\n",
    "inds_over1 = nover0 + np.random.choice(N-nover0, size=nover, replace=False)\n",
    "S[0,:nover0] = P0[:nover0] # partial overlap (first 800 neurons)\n",
    "S[0,inds_over1] = P1[inds_over1] # partial overlap (first 800 neurons)\n",
    "\n",
    "plot_state(S[0])\n"
   ]
  },
  {
   "cell_type": "code",
   "execution_count": null,
   "metadata": {},
   "outputs": [],
   "source": [
    "# ... votre code pour l'évolution du réseau et les overlaps..."
   ]
  },
  {
   "cell_type": "markdown",
   "metadata": {},
   "source": [
    "Pour la condition (3), est-ce que vous observez toujours le même résultat si vous répetez l'itération ? Pour la condition (4), est-ce que le résultat vous a surpris ? Pourquoi ?"
   ]
  },
  {
   "cell_type": "code",
   "execution_count": null,
   "metadata": {},
   "outputs": [],
   "source": [
    "# ... réponse écrite ..."
   ]
  }
 ],
 "metadata": {
  "kernelspec": {
   "display_name": "Python 3 (ipykernel)",
   "language": "python",
   "name": "python3"
  },
  "language_info": {
   "codemirror_mode": {
    "name": "ipython",
    "version": 3
   },
   "file_extension": ".py",
   "mimetype": "text/x-python",
   "name": "python",
   "nbconvert_exporter": "python",
   "pygments_lexer": "ipython3",
   "version": "3.10.8"
  }
 },
 "nbformat": 4,
 "nbformat_minor": 4
}
