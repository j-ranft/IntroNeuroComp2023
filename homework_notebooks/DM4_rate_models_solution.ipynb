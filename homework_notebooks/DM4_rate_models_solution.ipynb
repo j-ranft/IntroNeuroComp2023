{
 "cells": [
  {
   "cell_type": "markdown",
   "metadata": {
    "cell_id": "167a4c57e4fb493a83469a19b2b947ac",
    "deepnote_cell_type": "markdown"
   },
   "source": [
    "# DM4: Résaux de neurones : modèles de taux de décharge\n",
    "\n",
    "Dans le TD, nous avons étudié la dynamique de réseaux de neurones où une *population de neurones* est représentée par son taux de décharge moyen. Les connexions récurrentes entre neurones dans de cette population sont prises en compte via un couplage effectif de la population à elle-même, avec un \"poids\" de connexion $w$ :\n",
    "\n",
    "$$\\frac{dr}{dt} = \\frac{\\Phi(I_{ext}+wr(t)) - r(t)}{\\tau}$$ \n",
    "\n",
    "Nous avons considéré une population inhibitrice ($w<0$) ainsi qu'une population excitratrice ($w>0$).\n",
    "\n",
    "Dans un cas plus générale, on peut considérer plusieurs populations qui peuvent être couplées entre elles par des connexions synaptiques, ce qui rend la dynamique de ces modèles potentiellement très riche, ce qui est déjà le cas si on considère deux populations avec des connexions récurrentes (entre une population est elle-même du coup) et entre les deux populations. \n",
    "\n",
    "Dans ce devoir, nous allons cependant étudier davantage les modèles avec une seule population. Nous avons vu comment un ou plusieurs points fixes apparaissent en fonction des paramètres (le courant externe et le poids de connexion). Quand le système a atteint un point fixe stable, le taux de décharge $r^*$ de la population est donné par le courant total rentrant $I_{\\rm tot} = I_{\\rm ext} + wr^*$, via la fonction de transfert $\\Phi(I)$ :\n",
    "\n",
    "$$r^* = \\Phi(I_{\\rm ext} + w r^*)$$\n",
    "\n",
    "Cette équation ne peut pas être résolu simplement pour calculer $r^*$ ; mais on peut déjà voir que s'il y a des connexions récurrents ($w\\neq0$), le taux de décharge final est différent du taux auquel on s'attendrait uniquement en partant du courant externe, $r^*\\neq\\Phi(I_{\\rm ext})$. Quel est alors la rélation entre le taux de décharge final et la stimulation par un courant externe en présence d'un couplage récurrent ? Dans le TP, nous avons également déterminé la fonction de transfert *effective* qui exprime $r^*$ en fonction de $I_{\\rm ext}$ :\n",
    "\n",
    "$$ r^* = F(I_{\\rm ext}) $$.\n",
    "\n",
    "On a vu que pour un réseau récurrent, il peut y avoir un régime de **bistabilité** où pour une seule valeur de $I_{ext}$, deux états d'activité différents sont stables. Grâce à cette bistabilité, un réseau récurrent excitateur peut déjà implémenter une (très simple) fonction cognitive : servir comme **mémoire** ! Nous allons explorer cela davantage dans ce DM. \n",
    "\n",
    "\n",
    "## Exercise : Implémentation d'un switch d'activité d'un réseau récurrent excitateur\n",
    "\n",
    "Considérez un réseau récurrent excitateur comme dans le TP, avec `w = 0.1`. Ce réseau est initialement faiblement actif, en présence d'un courant externe `Iext = - 10.`. \n",
    "\n",
    "Déterminez l'évolution temporelle (le décours dans le temps) du taux de décharge de la population $r(t)$ dans les conditions suivantes :\n",
    "\n",
    "- L'état initiale (à $t = 0$) du réseau est donné par `r0 = 1` pour commencer avec un réseau qui est faiblement actif.\n",
    "- Evoluez le réseau pendant pendant 10 unités de temps (jusqu'à $t=10$) avec `Iext = -10.`.\n",
    "- A $t=10$, augmentez le courant externe temporairement pour une unité de temps (entre $t=10$ et $t=11$) à `Iext = 10.`, et évoluez le réseau pendant cette période.\n",
    "- A $t=11$, diminuez le courant à son niveau intiale, `Iext = -10.` et évoluez le réseau pour encore 10 unités de tems, c'est-à-dire jusqu'à $t=21$.\n",
    "\n",
    "Vous pouvez soit (1) utiliser la méthode d'Euler pour l'intégration numérique de l'équation différentielle, vieillez dans ce cas simplement à choisir la valeur correcte du courant externe en fonction du temps, et de choisir un pas de temps suffisamment petit pour que le résultat ne dépend pas du choix de ce pas de temps. \n",
    "\n",
    "Vous pouvez sinon (2) utiliser la routine `odeint`. Dans ce cas, vous pourriez (2a) simplement déterminer les différents époques (0-10, 10-11, 11-21) comme dans le TD, avec la bonne valeur de $I_{ext}$ pour chaque époque, et en veillant à utiliser comme valeur initiale pour la prochain bout la dernière valeure du bout juste avant. Sinon, l'autre possibilité (2b) serait de modifier la fonction `drdt` pour que le courant dépend explicitement du temps `t` (et n'est plus donné comme argument avec une valeur constante) ; si vous choississez cette option, il faudra veiller à préciser lors de l'appel de `odeint` qu'il y a des temps critique pour lequel la dynamique change (regardez la documentation d'`odeint`). "
   ]
  },
  {
   "cell_type": "code",
   "execution_count": 2,
   "metadata": {},
   "outputs": [],
   "source": [
    "# import necessary modules for numerics and plotting\n",
    "import numpy as np\n",
    "import matplotlib.pyplot as plt\n",
    "%matplotlib inline"
   ]
  },
  {
   "cell_type": "code",
   "execution_count": 3,
   "metadata": {},
   "outputs": [],
   "source": [
    "# Definition of the f-I curve \n",
    "\n",
    "# set standard parameters \n",
    "# --> these will be used as default parameters\n",
    "# in the function definitions\n",
    "rmax = 500.0     # (could be Hz)\n",
    "Ihalf = 10.0   # (could be pA)\n",
    "kappa = 0.2  # (1/unit of current)\n",
    "\n",
    "# f-I curve\n",
    "def fI(I):\n",
    "    \"\"\"fI(I, kwargs**) returns the population firing rate (in Hz) \n",
    "    for a given input current I (in mV).\"\"\"\n",
    "    return rmax*0.5*(1.0+np.tanh((I-Ihalf)*kappa))"
   ]
  },
  {
   "cell_type": "code",
   "execution_count": 4,
   "metadata": {},
   "outputs": [],
   "source": [
    "# définissez la dérivée dr/dt(r,t) (la fonction 'f'\n",
    "# des TD précédents) \n",
    "\n",
    "def drdt(r, t, I, w):\n",
    "    \"\"\"Dynamics of population rate r\n",
    "    for a single, recurrently connected\n",
    "    population.\n",
    "    \n",
    "    Arguments:\n",
    "    r - current rate\n",
    "    t - currrent time (not used)\n",
    "    I - external input current to population\n",
    "    w - weight of recurrent connection\n",
    "    \n",
    "    Output:\n",
    "    dr/dt\n",
    "    \"\"\"\n",
    "    return fI(I + w*r) - r"
   ]
  },
  {
   "cell_type": "code",
   "execution_count": 25,
   "metadata": {},
   "outputs": [],
   "source": [
    "# votre code\n",
    "\n",
    "T = 21.  # la durée totale\n",
    "t1 = 10. # augmentation de I \n",
    "t2 = 11. # retour à I d'avant\n",
    "\n",
    "r0 = 1. # valeur initiale\n",
    "\n",
    "I0 = -10. # courant initial bas\n",
    "Iup = 10. # courant élevé\n",
    "\n",
    "w = 0.1  # poids des connexions recurrents\n",
    "\n",
    "# 1: la méthode d'Euler\n",
    "\n",
    "dt = 0.01               # pas de temps\n",
    "t = np.arange(0, T, dt) # discrétisation du temps\n",
    "nt = len(t)\n",
    "\n",
    "# initialisation de l'array pour le taux de décharge\n",
    "r_euler = np.zeros(nt)\n",
    "r_euler[0] = r0\n",
    "\n",
    "# boucle sur les temps\n",
    "for i in range(nt-1):\n",
    "    # la valeur du courant dépend du temps\n",
    "    if t[i]>=t1 and t[i]<t2:\n",
    "        I = Iup\n",
    "    else:\n",
    "        I = I0\n",
    "    # méthode d'Euler\n",
    "    r_euler[i+1] = r_euler[i] + dt*drdt(r_euler[i],None,I,w) # drdt ne dépend pas explicitement du temps\n",
    "    \n",
    "\n",
    "\n"
   ]
  },
  {
   "cell_type": "code",
   "execution_count": 26,
   "metadata": {},
   "outputs": [
    {
     "data": {
      "text/plain": [
       "Text(0, 0.5, 'rate')"
      ]
     },
     "execution_count": 26,
     "metadata": {},
     "output_type": "execute_result"
    },
    {
     "data": {
      "image/png": "[encoded data removed]",
      "text/plain": [
       "<Figure size 640x480 with 1 Axes>"
      ]
     },
     "metadata": {},
     "output_type": "display_data"
    }
   ],
   "source": [
    "# plot \n",
    "fig, ax = plt.subplots()\n",
    "ax.plot(t, r_euler, label='Euler')\n",
    "ax.legend()\n",
    "ax.set_xlabel('time')\n",
    "ax.set_ylabel('rate')"
   ]
  },
  {
   "cell_type": "code",
   "execution_count": 27,
   "metadata": {},
   "outputs": [],
   "source": [
    "# 1b: avec odeint et en passant les temps 'critiques'\n",
    "\n",
    "from scipy.integrate import odeint\n",
    "\n",
    "# redefinition de la fonction drdt\n",
    "def drdt_mod(r, t):\n",
    "    if t>=t1 and t<t2:\n",
    "        I = Iup\n",
    "    else:\n",
    "        I = I0\n",
    "    return fI(I + w*r) - r\n",
    "\n",
    "# odeint\n",
    "r_odeint_b = odeint(drdt_mod, r0, t, tcrit=[t1,t2])    \n",
    "\n",
    "\n"
   ]
  },
  {
   "cell_type": "code",
   "execution_count": 29,
   "metadata": {},
   "outputs": [
    {
     "data": {
      "text/plain": [
       "Text(0, 0.5, 'rate')"
      ]
     },
     "execution_count": 29,
     "metadata": {},
     "output_type": "execute_result"
    },
    {
     "data": {
      "image/png": "[encoded data removed]",
      "text/plain": [
       "<Figure size 640x480 with 2 Axes>"
      ]
     },
     "metadata": {},
     "output_type": "display_data"
    }
   ],
   "source": [
    "# un peu plus complet avec un plot du courant\n",
    "I = I0*np.ones(nt)\n",
    "I[(t>=t1)*(t<t2)] = Iup\n",
    "\n",
    "fig, ax = plt.subplots(2,1, sharex=True)\n",
    "ax[0].plot(t, I)\n",
    "ax[0].set_ylabel('current')\n",
    "ax[1].plot(t, r_euler, label='Euler')\n",
    "ax[1].plot(t, r_odeint_b, '--', label='odeint')\n",
    "ax[1].legend()\n",
    "ax[1].set_xlabel('time')\n",
    "ax[1].set_ylabel('rate')"
   ]
  },
  {
   "cell_type": "code",
   "execution_count": null,
   "metadata": {},
   "outputs": [],
   "source": []
  },
  {
   "cell_type": "code",
   "execution_count": null,
   "metadata": {},
   "outputs": [],
   "source": []
  }
 ],
 "metadata": {
  "deepnote": {},
  "deepnote_execution_queue": [],
  "deepnote_notebook_id": "1fbd16207e8d496eb4bd240e8de59929",
  "kernelspec": {
   "display_name": "Python 3 (ipykernel)",
   "language": "python",
   "name": "python3"
  },
  "language_info": {
   "codemirror_mode": {
    "name": "ipython",
    "version": 3
   },
   "file_extension": ".py",
   "mimetype": "text/x-python",
   "name": "python",
   "nbconvert_exporter": "python",
   "pygments_lexer": "ipython3",
   "version": "3.10.8"
  }
 },
 "nbformat": 4,
 "nbformat_minor": 1
}
