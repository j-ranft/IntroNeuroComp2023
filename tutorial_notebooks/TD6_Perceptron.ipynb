{
 "cells": [
  {
   "cell_type": "markdown",
   "metadata": {},
   "source": [
    "# TD 6 : Le perceptron\n",
    "---\n",
    "\n",
    "Dans ce dernier TD, nous allons explorer le fonctionnement du perceptron, le véritable précurseur des algorithmes les plus puissants dans l'*apprentissage machine* d'aujourd'hui, tel l'apprentissage profond. \n",
    "\n",
    "À la base, il s'agit d'un classificateur binaire qui permet d'apprendre des associations *entrée*--*sortie* arbitraires tant que les entrées appartenant à des catégories différentes sont linéairement séparables. (Ce qui devient moins limitant si l'espace des entrées devient très haut-dimensionnelle.) \n",
    "\n",
    "L'équation du perceptron est la suivante :\n",
    "\n",
    "$\\hat y = {\\rm sign}(\\sum_j w_i x_i + b).$\n",
    "\n",
    "Ici, $\\hat y$ est la classification produite par le perceptron (la *sortie*), les paramètres $w_i$ projetent l'*entrée* $x$ (avec les composantes $x_i$) sur l'axe réelle et correspondent en quelque sorte à des poids synaptiques ; $b$ correspond enfin un paramètre de seuil.  \n"
   ]
  },
  {
   "cell_type": "code",
   "execution_count": null,
   "metadata": {},
   "outputs": [],
   "source": [
    "# imports \n",
    "import numpy as np\n",
    "import matplotlib.pyplot as plt\n",
    "%matplotlib inline"
   ]
  },
  {
   "cell_type": "markdown",
   "metadata": {},
   "source": [
    "Allons créer des entrées avec des catégories distinctes préscrites. Le but sera d'apprendre les poids synaptiques (et la valeur de $b$) qui permettront de faire une classification correcte pour des entrées futures. "
   ]
  },
  {
   "cell_type": "code",
   "execution_count": null,
   "metadata": {},
   "outputs": [],
   "source": [
    "# Distinguer deux catégories de points\n",
    "# (en 2D) rélatif par rapport à une droite\n",
    "# séparant l'espace\n",
    "\n",
    "def category(p, a=0.0, b=1.):\n",
    "    \"\"\"Return +1 (-1) for points\n",
    "    above (below) straight line \n",
    "    defined by y = a + b*x\"\"\"\n",
    "    px, py = p\n",
    "    y = a + b*px\n",
    "    return 2*(py>y) - 1 \n",
    "\n",
    "# nombre de points \n",
    "n = 20\n",
    "\n",
    "# choisir des points aléatoires \n",
    "ps = np.random.uniform(size=(n,2))\n",
    "\n",
    "#  sortie souhaitée pour les points\n",
    "cats = np.array([category(p) for p in ps])\n",
    "\n",
    "# nous pouvons faciliter l'apprentissage en\n",
    "# imposant une séparation de taille finie entre\n",
    "# les points des deux catégories\n",
    "sep = 0.01\n",
    "\n",
    "ps[cats==1] *= 1-sep\n",
    "ps[cats==1,1] += sep\n",
    "\n",
    "ps[cats==-1] *= 1-sep\n",
    "ps[cats==-1,0] += sep\n",
    "\n",
    "# nous colorions les points en fonction de leur \n",
    "# catégorie en bleu ou rouge\n",
    "colors = np.array(['b','r'])[(cats+1)//2]\n",
    "\n",
    "fig, ax = plt.subplots()\n",
    "ax.scatter(*ps.T, c=colors)\n",
    "ax.set_xlabel('$x_1$')\n",
    "ax.set_ylabel('$x_2$')"
   ]
  },
  {
   "cell_type": "markdown",
   "metadata": {},
   "source": [
    "Reste l'implémentation de la règle d'apprentissage ! Nous allons commencer avec un seuil et des poids synaptiques aléatoires, puis mettre à jour le paramètres avec chaque nouveau point que nous considérons."
   ]
  },
  {
   "cell_type": "code",
   "execution_count": null,
   "metadata": {},
   "outputs": [],
   "source": [
    "# initialisation des paramètres\n",
    "w = np.random.uniform(-1,1,2)\n",
    "b = np.random.uniform(-1,1)\n",
    "\n",
    "# A chaque étape, nous pouvons plotter \n",
    "# comment le perceptron sépare l'espace \n",
    "# en deux catégories\n",
    "x = np.array([0,1])\n",
    "\n",
    "fig, ax = plt.subplots()\n",
    "y = -(b+w[0]*x)/w[1]\n",
    "ax.plot(x, y, 'k')\n",
    "ax.fill_between(x, y, [max(1,*y),min(0,*y)][int(w[1]>0)], color='r', alpha=0.2)\n",
    "ax.fill_between(x, y, [max(1,*y),min(0,*y)][int(w[1]<0)], color='b', alpha=0.2)\n",
    "\n",
    "# --> plotter les points déjà utilisés selon \n",
    "# (par ex. pour les 5 premiers points)\n",
    "i = 5\n",
    "ax.scatter(ps[:i,0], ps[:i,1], c=colors[:i])"
   ]
  },
  {
   "cell_type": "code",
   "execution_count": null,
   "metadata": {},
   "outputs": [],
   "source": [
    "# ... notre code d'apprentissage ..."
   ]
  }
 ],
 "metadata": {
  "kernelspec": {
   "display_name": "Python 3 (ipykernel)",
   "language": "python",
   "name": "python3"
  },
  "language_info": {
   "codemirror_mode": {
    "name": "ipython",
    "version": 3
   },
   "file_extension": ".py",
   "mimetype": "text/x-python",
   "name": "python",
   "nbconvert_exporter": "python",
   "pygments_lexer": "ipython3",
   "version": "3.10.8"
  }
 },
 "nbformat": 4,
 "nbformat_minor": 4
}
