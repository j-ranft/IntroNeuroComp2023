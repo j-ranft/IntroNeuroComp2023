{
 "cells": [
  {
   "cell_type": "markdown",
   "metadata": {},
   "source": [
    "# TD4: Résaux de neurones : modèles de taux de décharge\n",
    "\n",
    "Dans ce TD, nous allons étudier la dynamique de réseaux de neurones où différentes *populations de neurones* sont représentés par leur taux de décharge moyen. Ces populations peuvent être couplées par des connexions synaptiques, ce qui rend la dynamique de ces modèles potentiellement très riche.\n",
    "\n",
    "Par ailleurs, ces modèles sont aussi très étudiés comme une approximation de réseaux récurrents de neurones, où le couplage entre toutes les unités, avec certaines contraintes, peut produire n'importe quel dynamique souhaité suite à un apprentissage des poids des connexions.\n",
    "\n",
    "Ici, nous allons d'abord étudier des réseaux à basse dimension, c'est-à-dire avec une ou deux populations de neurones, pour développer une compréhension des modèles à taux de décharge. Si le temps le permet, nous pourrons implémenter une version du \"bump attractor model\" que nous avons rapidement vu dans le cours."
   ]
  },
  {
   "cell_type": "markdown",
   "metadata": {},
   "source": [
    "## 1| Une seule population avec connexions récurrentes\n",
    "\n",
    "Pour une seule population de neurones, la dynamique du taux de décharge $r(t)$ est donné par l'équation différentielle\n",
    "\n",
    "$$\\frac{dr}{dt} = \\frac{\\Phi(I_{ext}+wr(t)) - r(t)}{\\tau},$$ \n",
    "\n",
    "où $\\Phi(I)$ est la *fonction de transfert*, ou courbe $f-I$, qui donne le taux de décharge stationnaire du réseau pour un courant constant $I$. Dans le modèle, le courant synaptique que la population reçoit est donné par la somme d'une courant provénant d'autres régions du cervau ou d'autres populations de neurones, $I_{ext}$, et le courant synaptique lié aux connexions récurrentes, proportionnel au taux de décharge de la population même, $I_{rec}=w r(t)$, avec un poids de connexion effective $w$. Pour des neurones excitateurs, $w>0$, pour des neurones inhibiteurs, $w<0$. Enfin, $\\tau$ est le temps caractéristique de la relaxation du taux de décharge vers la valeur stationnaire. \n",
    "\n",
    "\n",
    "\n",
    "### La fonction de transfert\n",
    "\n",
    "On peut choisir différentes fonctions pour $\\Phi(I)$, seulement il faut que la fonction soit toujours positive, $\\Phi(I)\\ge 0$, et monotone, $\\Phi(I_1)\\ge \\Phi(I_2)$ si $I_1>I_2$.\n",
    "\n",
    "Ici, on va utiliser une sigmoïde, \n",
    "$$\\Phi(I) = r_{max} \\frac{\\tanh[\\kappa(I-I_{half})] + 1}{2},$$\n",
    "avec les paramètres suivants : $r_{max}$ - le taux de décharge maximale, $\\kappa$ - la 'raideur' de la courbe $f-I$, et $I_{half}$ - le courant pour lequel le taux de décharge sera $r_{max}/2$.\n",
    "\n",
    "Ce choix est assez \"générique\" dans le sens où la fonction ressemble à des courbes $f-I$ observées, tout en étant très aisément parametrisable, et implémenter numériquement. L'inverse et la dérivé sont également connues, ce qui s'averera utile pour des calculs. \n",
    "\n",
    "**Remarque :** Une fois implémenté, nous n'avons plus à nous soucier de la fonction de transfert dans nos simulations ou calculs, qu'elle soit compliquée ou non !\n"
   ]
  },
  {
   "cell_type": "code",
   "execution_count": 1,
   "metadata": {},
   "outputs": [],
   "source": [
    "# import necessary modules for numerics and plotting\n",
    "import numpy as np\n",
    "import matplotlib.pyplot as plt\n",
    "%matplotlib inline"
   ]
  },
  {
   "cell_type": "code",
   "execution_count": 2,
   "metadata": {},
   "outputs": [],
   "source": [
    "# Definition of the f-I curve \n",
    "\n",
    "# set standard parameters \n",
    "# --> these will be used as default parameters\n",
    "# in the function definitions\n",
    "rmax = 500.0     # (could be Hz)\n",
    "Ihalf = 10.0   # (could be pA)\n",
    "kappa = 0.2  # (1/unit of current)\n",
    "\n",
    "# f-I curve\n",
    "def fI(I):\n",
    "    \"\"\"fI(I, kwargs**) returns the population firing rate (in Hz) \n",
    "    for a given input current I (in mV).\"\"\"\n",
    "    return rmax*0.5*(1.0+tanh((I-Ihalf)*kappa))\n",
    "\n",
    "# we need the inverse function as well:\n",
    "def fI_inv(r):\n",
    "    y = 2.0*r/rmax - 1.0\n",
    "    return arctanh(y)/kappa + Ihalf\n",
    "\n",
    "# and also its derivative with respect to current\n",
    "def fI_deriv(I):\n",
    "    y = (I-Ihalf)*kappa\n",
    "    return rmax*0.5*(1.0-tanh(y)**2)*kappa"
   ]
  },
  {
   "cell_type": "code",
   "execution_count": null,
   "metadata": {},
   "outputs": [],
   "source": [
    "# Plotez la courbe f-I, c.à.d., le taux de décharge\n",
    "# vs. le courant entrant total\n",
    "# (Vous pouvez jouer avec les paramètres pour voir \n",
    "# comment la courbe se modifie.)\n",
    "\n",
    "# ...\n"
   ]
  },
  {
   "cell_type": "code",
   "execution_count": 3,
   "metadata": {},
   "outputs": [],
   "source": [
    "# Plottez l'inverse de la courbe f-I\n",
    "# --> est-ce qu'elle est définie pour \n",
    "# toutes les valeurs de r ?\n",
    "\n",
    "# ..."
   ]
  },
  {
   "cell_type": "code",
   "execution_count": null,
   "metadata": {},
   "outputs": [],
   "source": [
    "# Plottez la dérivée de la courve f-I\n",
    "\n",
    "# ..."
   ]
  },
  {
   "cell_type": "markdown",
   "metadata": {},
   "source": [
    "### Dynamique avec courant externe constant\n",
    "\n",
    "Pour un courant externe constant, on peut se demander si le réseau va atteindre un état stationnaire et si cet état sera stable. \n",
    "\n",
    "La première possibilité d'y répondre, c'est de resoudre numériquement l'équation différentielle et de déterminer ainsi la solution pour $r(t)$. \n",
    "\n",
    "#### Inhibitory network\n",
    "\n",
    "Plottez $r(t)$ pour différentes valeurs de $I_{ext}$ et de $w<0$, chaque fois pour des valeurs initiales $r(t=0)=0$ et $r(t=0)= r_{max}$. Qu'est-ce que vous observez ?   "
   ]
  },
  {
   "cell_type": "code",
   "execution_count": 4,
   "metadata": {},
   "outputs": [],
   "source": [
    "# définissez la dérivée dr/dt(r,t) (la fonction 'f'\n",
    "# des TD précédents) \n",
    "def drdt(r, t):\n",
    "    pass\n",
    "\n",
    "# Intégration numérique\n",
    "# --> odeint ou la méthode d'Euler\n",
    "\n",
    "# ...\n",
    "\n"
   ]
  },
  {
   "cell_type": "markdown",
   "metadata": {},
   "source": [
    "Est-ce qu'il y a la possibilité de déterminer l'état stationnaire ($r(t)=r^*=const.$) en partant de l'équation ? Plottez $dr/dt$ en fonction de $r$ pour les valeurs de $I_{ext}$ et $w$ choisies. Qu'est-ce que vous observez ?"
   ]
  },
  {
   "cell_type": "code",
   "execution_count": 5,
   "metadata": {},
   "outputs": [],
   "source": [
    "# ..."
   ]
  },
  {
   "cell_type": "markdown",
   "metadata": {},
   "source": [
    "#### Excitatory network\n",
    "\n",
    "Plottez $r(t)$ pour différentes valeurs de $I_{ext}$, maintenant avec une valeur $w>0$, chaque fois pour des valeurs initiales $r(t=0)=0$ et $r(t=0)= r_{max}$. Qu'est-ce que vous observez ?"
   ]
  },
  {
   "cell_type": "code",
   "execution_count": 6,
   "metadata": {},
   "outputs": [],
   "source": [
    "# ..."
   ]
  },
  {
   "cell_type": "markdown",
   "metadata": {},
   "source": [
    "Si vous plottez maintenant $dr/dt$ en fonction de $r$, qu'est-ce que vous observez ? A combien d'états stationnaires vous attendez-vous ?"
   ]
  },
  {
   "cell_type": "code",
   "execution_count": 7,
   "metadata": {},
   "outputs": [],
   "source": [
    "# ..."
   ]
  },
  {
   "cell_type": "markdown",
   "metadata": {},
   "source": [
    "Maintenant pour une valeur de $I_{ext}$ choisie, plottez $dr/dt$ et variez le poids de la connexion récurrente $w$. Est-ce que vous pouvez observez un changement *qualitatif* ?"
   ]
  },
  {
   "cell_type": "code",
   "execution_count": null,
   "metadata": {},
   "outputs": [],
   "source": [
    "# ..."
   ]
  },
  {
   "cell_type": "markdown",
   "metadata": {},
   "source": [
    "Lorsque vous observez plusieurs points fixes $r^*$ pour lesquels $dr/dt=0$ (pour des paramètres $I_{ext}$ et $w$ fixes choisis), pouvez-vous estimer si ces points fixes sont stables ou pas ? Vérifiez avec une intégration numérique de la dynamique, en partant de près de chaque point fixe ($r(t=0) = 1.01 r^*_1$ pour le premier, ($r(t=0) = 1.01 r^*_2$ pour le deuxième etc.)."
   ]
  },
  {
   "cell_type": "code",
   "execution_count": null,
   "metadata": {},
   "outputs": [],
   "source": [
    "# ..."
   ]
  },
  {
   "cell_type": "markdown",
   "metadata": {},
   "source": [
    "Est-ce que la stabilité peut être prédite par l'équation ? Considerez la dynamique d'une petite variation $\\delta r$ autour du point fixe $r^*$, de sorte que $r(t) = r^* + \\delta r(t)$. \n",
    "\n",
    "**Astuce :** Nous pouvons approximer une fonction $h(x)$ autour d'un point $x_0$ par sa dérivée selon de développement (jusqu'au premier ordre) :\n",
    "$$h(x)\\approx h(x_0) + h'(x_0)(x-x_0).$$ "
   ]
  },
  {
   "cell_type": "code",
   "execution_count": null,
   "metadata": {},
   "outputs": [],
   "source": [
    "# calcul sur papier, puis évaluation numérique..."
   ]
  },
  {
   "cell_type": "markdown",
   "metadata": {},
   "source": [
    "## 2| Deux populations couplées : le réseau Excitateur-Inhibiteur\n",
    "\n",
    "\n",
    "Pour deux populations de neurones excitateurs et inhibiteurs, un modèle de taux de décharge peut prendre la forme suivante :\n",
    "\n",
    "$$\\tau \\frac{d r_E(t)}{dt} =  \\Phi(I_{ext,E} + w_{EE}r_E(t) + w_{EI}  r_I(t) )  -  r_E(t) $$\n",
    "$$\\tau \\frac{d r_I(t)}{dt} =  \\Phi(I_{ext,I} + w_{IE}r_E(t) + w_{II}  r_I(t) )  -  r_I(t) $$\n",
    "\n",
    "Ici, il y a désormais quatre poids effectifs de connexions synaptiques, des excitateurs vers excitateurs et inhibiteurs, $w_{EE}, w_{IE} >0$, et des inhibiteurs vers excitateurs et inhibiteurs, $w_{EI}, w_{II} < 0$. Pour réduire la compléxité, nous considérons $w_{II}=0$ par la suite.\n",
    "\n",
    "Pouvez-vous intégrer numériquement les équations dynamiques couplées pour $r_E(t), r_I(t)$ ? "
   ]
  },
  {
   "cell_type": "code",
   "execution_count": null,
   "metadata": {},
   "outputs": [],
   "source": [
    "# ..."
   ]
  }
 ],
 "metadata": {
  "kernelspec": {
   "display_name": "Python 3 (ipykernel)",
   "language": "python",
   "name": "python3"
  },
  "language_info": {
   "codemirror_mode": {
    "name": "ipython",
    "version": 3
   },
   "file_extension": ".py",
   "mimetype": "text/x-python",
   "name": "python",
   "nbconvert_exporter": "python",
   "pygments_lexer": "ipython3",
   "version": "3.10.8"
  }
 },
 "nbformat": 4,
 "nbformat_minor": 4
}
