{
 "cells": [
  {
   "cell_type": "markdown",
   "metadata": {},
   "source": [
    "# TD 3 : Le modèle Leaky Integrate-and-Fire (LIF)\n",
    "---"
   ]
  },
  {
   "cell_type": "code",
   "execution_count": null,
   "metadata": {},
   "outputs": [],
   "source": [
    "# import necessary modules for numerics and plotting\n",
    "import numpy as np\n",
    "import matplotlib.pyplot as plt\n",
    "%matplotlib inline"
   ]
  },
  {
   "cell_type": "markdown",
   "metadata": {},
   "source": [
    "# 1. Le modèle Integrate-and-Fire \n",
    "\n",
    "La dynamique sous-seuil d'un neurone \"Integrate-and-Fire\" est décrit par l'équation \n",
    "$$\\tau \\frac{dV}{dt} = -V + RI.$$\n",
    "Ici, $V$ est le potentiel de la membrane, $\\tau$ est la constante de temps de la membrane, $R$ la résistance d'entrée, et $I$ représente un courant injecté dans le neurone. Pour faire simple, tous les potentiels sont mésurés rélatif au potentiel de repos $E_L$, qui pour cette raison n'apparaît plus dans l'équation. \n",
    "\n",
    "Chaque fois que le potentiel excède un seuil $V_{\\rm seuil}$, on considère que le neurone emet un potentiel d'action, et le potentiel membranaire est remis à une valeur de \"reset\", $V\\to V_{\\rm reset}$.\n",
    "\n",
    "Considérons les paramètres suivants : $\\tau=20$ ms et $R=1$ MOhm pour la dynamique sous-seuil, et $V_{\\rm seuil}=20$ mV avec $V_{\\rm reset}=0$ mV pour le mécanisme de décharge. \n",
    "\n",
    "Remarque : Si nous allons spécifier le courant $I$ en nA, nous pouvons calculer le produit $R*I$ sans dévoir transformer des unités, puisque MOhm x nA = mV. \n",
    "\n"
   ]
  },
  {
   "cell_type": "markdown",
   "metadata": {},
   "source": [
    "## 1.1 Solution analytique de la dynamique sous-seuil du modèle Integrate-and-Fire\n",
    "\n",
    "Quel est le potentiel de la membrane stationnaire - ou le point fixe - pour $t\\rightarrow \\infty$ si on considère *uniquement la dynamique sous-seuil* spécifiée ci-dessus, c'est-à-dire en faisant abstraction du mécanisme de décharge ? \n",
    "\n",
    "Vérifiez que $$V(t) = RI + (V_0 - RI) \\exp(-t/\\tau)$$ est une solution de l'équation différentielle donnée plus haut, avec la condition initiale $V(t=0) = V_0$ et si on considère que le courant $I$ est constant dans le temps. \n",
    "\n",
    "**Indice**: Rappelez-vous que $\\frac{d}{dt} \\left( e^{f(t)} \\right) = e^{f(t)} \\frac{df(t)}{dt}$"
   ]
  },
  {
   "cell_type": "code",
   "execution_count": null,
   "metadata": {},
   "outputs": [],
   "source": [
    "# calcul et réponses sur papier"
   ]
  },
  {
   "cell_type": "markdown",
   "metadata": {},
   "source": [
    "**Solution :** \n",
    "$$\\begin{align}\\frac{dV}{dt} &= \\frac{d}{dt} \\left[RI + (V_0-RI) e^{-t/\\tau}\\right] \\\\ \n",
    "&=  \\ldots \\end{align} $$"
   ]
  },
  {
   "cell_type": "code",
   "execution_count": null,
   "metadata": {},
   "outputs": [],
   "source": [
    "# Plottez la solution pour les paramètres données plus haut \n",
    "# et la valeur initiale V0 = Vreset"
   ]
  },
  {
   "cell_type": "markdown",
   "metadata": {},
   "source": [
    "## 1.2 L'activité de décharge du neurone Integrate-and-Fire\n",
    "\n",
    "Dans le modèle Integrate-and-Fire, un potentiel d'action est déclenché lorsque le potentiel de membrane atteint un seuil $V_{\\rm seuil}$. Le potentiel est remis à $V \\rightarrow V_{\\rm reset}$ après le potentiel d'action. \n",
    "\n",
    "**Dans quelle condition, c'est-à-dire pour quel courant injecté, le neurone déclenche-t-il des potentiels d'action ?**\n",
    "\n",
    "Veuillez dériver l'expression analytique du taux de décharge $f(t)$ en fonction de l'input externe $I$. \n",
    "\n",
    "**Indice :** Calculez d'abord combien de temps $T$ il faut pour passer de $V(t=0)=V_{\\rm reset}$ à $V(T)=V_{\\rm seuil}$. Ce temps $T$ entre deux spikes dépend du courant injecté, $T=T(I)$. Le taux de décharge en fonction de l'input est alors donné par $f(I) = 1/T(I)$. Tracez le taux de décharge $f$ en fonction de l'entrée $I$."
   ]
  },
  {
   "cell_type": "code",
   "execution_count": null,
   "metadata": {},
   "outputs": [],
   "source": [
    "# calcul et réponses sur papier"
   ]
  },
  {
   "cell_type": "markdown",
   "metadata": {},
   "source": [
    "**Solution :** \n",
    "$$\\begin{align}V_{\\rm seuil} &= V(T)  \\\\ \n",
    "&=  \\ldots \\end{align} $$\n",
    "\n",
    "\n",
    "$$\\Rightarrow\\ \\ T = \\ldots  $$"
   ]
  },
  {
   "cell_type": "code",
   "execution_count": null,
   "metadata": {
    "scrolled": true
   },
   "outputs": [],
   "source": [
    "# Plottez la courbe f-I du LIF avec \n",
    "# les paramètres choisis\n"
   ]
  },
  {
   "cell_type": "markdown",
   "metadata": {},
   "source": [
    "1.3 Neurone Integrate-and-Fire avec période refractaire\n",
    "\n",
    "Considérons maintenant un neurone avec une période réfractaire : Dans cette modification du modèle, le neurone n'intégre pas d'inputs pendant une période brève après l'émission d'un spike, similaire aux vrais neurones. Supposons que la période réfractaire dure un temps $D$. Comment le taux de décharge $f(I)$ change-t-il avec une période réfractaire de $D=5$ ms ? Quelle est la nouvelle expression pour $f(I)$ ? Tracez $f$ en fonction de $I$. \n",
    "\n",
    "**Remarque :** La dynamique sous-seuil, une fois la période refractaire passée, est identique au cas sans période refractaire, c'est-à-dire n'est pas modifiée, et un spike est toujours déclenché quand $V>V_{\\rm seuil}$.\n",
    "\n",
    "**Indice :** Dessinez d'abord un croquis de la dynamique du potentiel membranaire pour avoir une meilleure idée de la façon dont $D$ affecte $T$. "
   ]
  },
  {
   "cell_type": "code",
   "execution_count": null,
   "metadata": {},
   "outputs": [],
   "source": [
    "# calcul et réponses sur papier"
   ]
  },
  {
   "cell_type": "markdown",
   "metadata": {},
   "source": [
    "**Réponse :**\n",
    "\n",
    "$$\\begin{align}T_{\\rm avec} &= T_{\\rm sans} + D \\\\\n",
    "\\Rightarrow\\ \\ f_{\\rm avec}(I) &= \\frac{1}{T_{\\rm avec}} \\\\\n",
    " &= \\ldots  \\end{align}$$\n"
   ]
  },
  {
   "cell_type": "code",
   "execution_count": null,
   "metadata": {},
   "outputs": [],
   "source": [
    "# Plottez la courve f-I pour le paramètres choisis\n",
    "# pour D=0 ms (le cas avant, sans période réfractaire)\n",
    "# et D=5 ms."
   ]
  },
  {
   "cell_type": "markdown",
   "metadata": {},
   "source": [
    "## 1.4 Intégration numérique du modèle Integrate-and-Fire (avec décharge !)\n",
    "\n",
    "La semaine précédente, nous avons utilisé la méthode d'Euler pour résoudre des équations différentielles. Nous pouvons utiliser cette même technique pour résoudre la dynamique sous-seuil d'un neurone LIF (Leaky Integrate-and-Fire), en rajoutant un mécanisme de détection de spike et de reset.\n"
   ]
  },
  {
   "cell_type": "code",
   "execution_count": null,
   "metadata": {},
   "outputs": [],
   "source": [
    "# Discretization of time\n",
    "\n",
    "# Definition of the dynamics\n",
    "# (function returning dV/dt)\n",
    "\n",
    "# Iterative integration of \n",
    "# the subthreshold dynamics,\n",
    "# COMBINED WITH threshold\n",
    "# crossing detection!\n",
    "\n",
    "# (your code)"
   ]
  },
  {
   "cell_type": "markdown",
   "metadata": {},
   "source": [
    "\n",
    "# 2. Décharge irrégulière dans le modèle Integrate-and-Fire\n",
    "\n",
    "Ajoutons une entrée de bruit à l'équation du neurone Integrate-and-Fire ci-dessus\n",
    "$$\\tau \\frac{dV}{dt} = -V + RI + \\sigma \\sqrt{\\tau} \\xi(t),$$\n",
    "où $\\sigma$ détermine l'amplitude du bruit et $\\xi(t)$ est un processus de bruit blanc gaussien avec une densité de variance unitaire et moyenne zéro. Avec le terme de bruit, c'est désormais une _**équation différentielle stochastique**_.\n",
    "\n",
    "Le terme de bruit peut par ex. représenter :     \n",
    "* la stochasticité d'ouverture et de fermeture des canaux ioniques,\n",
    "* le bruit synaptique (fiabilité de la transmission synaptique),\n",
    "* les entrées synaptiques externes (inconnues et/ou variables entre les essais).\n",
    "\n",
    " \n",
    "Dans la forme discrétisée telle que nous l'utilisons pour la méthode d'Euler, l'équation devient\n",
    "\n",
    "$$V_{i+1} = V_i + \\Delta t \\left[\\left(\\frac{dV}{dt}\\right)_{\\rm det}(V_i, t_i) + \\sigma\\sqrt{\\frac{1}{\\Delta t \\tau}} \\eta_i\\right],$$\n",
    "\n",
    "où le premier terme $\\left(\\frac{dV}{dt}\\right)_{\\rm det}$ -- évalué à $t_i$ -- représente la dynamique déterministe du LIF, tandis que la stochasticité vient du deuxième terme, où $\\eta_i$ est un nombre aléatoire tiré d'une distribution Gaussienne normalisée, avec moyenne zéro et écart-type 1. \n",
    "\n",
    "**Indice :** Tirez des nombres aléatoires Gaussiens avec `np.random.normal()`. \n"
   ]
  },
  {
   "cell_type": "markdown",
   "metadata": {},
   "source": [
    "## 2.1 Intégration numérique d'une équation différentielle stochastique : LIF avec  bruit\n",
    "\n",
    "Écrivez un schéma d'intégration numérique de l'équation différentielle ci-dessus. Utilisez la méthode Euler avec un largeur de pas de temps de $0.1$ ms et intégrez pendant 20 secondes. Enregistrez les temps de spikes et calculez le coefficient de variation après l'intégration. Essayez d'obtenir un $CV$ de 1 à un taux de décharge de 1 spk/sec en variant $I$ et $\\sigma$. Tracer le potentiel de la membrane pendant une période de 20 sec. Inspectez l'histogramme de la distribution ISI.  "
   ]
  },
  {
   "cell_type": "code",
   "execution_count": null,
   "metadata": {},
   "outputs": [],
   "source": [
    "# Code pour l'intégration Euler\n",
    "#I  = ...\n",
    "#sigma = ..."
   ]
  },
  {
   "cell_type": "code",
   "execution_count": null,
   "metadata": {},
   "outputs": [],
   "source": [
    "# Plottez le potentiel de membrane V(t)\n",
    "# avec les spikes superposés pour les\n",
    "# valeurs de I et de sigma choisies"
   ]
  },
  {
   "cell_type": "code",
   "execution_count": null,
   "metadata": {},
   "outputs": [],
   "source": [
    "# Calculez le CV"
   ]
  },
  {
   "cell_type": "code",
   "execution_count": null,
   "metadata": {},
   "outputs": [],
   "source": [
    "# Plottez l'histogramme des ISI"
   ]
  }
 ],
 "metadata": {
  "kernelspec": {
   "display_name": "Python 3 (ipykernel)",
   "language": "python",
   "name": "python3"
  },
  "language_info": {
   "codemirror_mode": {
    "name": "ipython",
    "version": 3
   },
   "file_extension": ".py",
   "mimetype": "text/x-python",
   "name": "python",
   "nbconvert_exporter": "python",
   "pygments_lexer": "ipython3",
   "version": "3.10.8"
  }
 },
 "nbformat": 4,
 "nbformat_minor": 2
}
